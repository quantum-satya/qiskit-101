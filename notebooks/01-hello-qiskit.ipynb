{
 "cells": [
  {
   "cell_type": "code",
   "execution_count": null,
   "id": "d5da108b-08a1-41dd-9552-3d60c98b3fd1",
   "metadata": {},
   "outputs": [],
   "source": [
    "# 01 — Hello Qiskit\n",
    "\n",
    "This notebook creates a simple 1-qubit circuit, applies a Hadamard gate, measures the result, and shows the output counts.\n"
   ]
  },
  {
   "cell_type": "code",
   "execution_count": null,
   "id": "52a9ef82-ed59-4b90-946c-8a0007de481f",
   "metadata": {},
   "outputs": [],
   "source": [
    "### What this shows\n",
    "A single qubit is initialized in state |0⟩.  \n",
    "After applying a Hadamard gate, it enters superposition:\n",
    "\n",
    "|ψ⟩ = (|0⟩ + |1⟩)/√2\n",
    "\n",
    "When we measure, outcomes are roughly 50% |0⟩ and 50% |1⟩.\n"
   ]
  },
  {
   "cell_type": "code",
   "execution_count": null,
   "id": "dab6010c-71a8-4050-88ed-cd85ea63ba76",
   "metadata": {},
   "outputs": [],
   "source": [
    "from qiskit import QuantumCircuit, Aer, execute\n",
    "\n",
    "# Create a 1-qubit, 1-classical-bit circuit\n",
    "qc = QuantumCircuit(1, 1)\n",
    "qc.h(0)              # Apply Hadamard gate\n",
    "qc.measure(0, 0)     # Measure qubit into classical bit\n",
    "\n",
    "# Run on simulator\n",
    "backend = Aer.get_backend('qasm_simulator')\n",
    "result = execute(qc, backend, shots=1024).result()\n",
    "counts = result.get_counts()\n",
    "\n",
    "print(\"Measurement results:\", counts)\n",
    "qc.draw('mpl')\n"
   ]
  },
  {
   "cell_type": "code",
   "execution_count": null,
   "id": "436da840-9df7-4754-a457-5e9902f67857",
   "metadata": {},
   "outputs": [],
   "source": [
    "### Output explanation\n",
    "After 1024 runs, we should see approximately half counts as `0` and half as `1`.  \n",
    "This confirms that the Hadamard gate creates an equal superposition state.\n"
   ]
  },
  {
   "cell_type": "code",
   "execution_count": null,
   "id": "c6f6a9ab-70a2-48e8-bbdd-7b7a2abb8e88",
   "metadata": {},
   "outputs": [],
   "source": [
    "from qiskit.visualization import plot_histogram\n",
    "plot_histogram(counts)\n"
   ]
  }
 ],
 "metadata": {
  "kernelspec": {
   "display_name": "Python 3 (ipykernel)",
   "language": "python",
   "name": "python3"
  },
  "language_info": {
   "codemirror_mode": {
    "name": "ipython",
    "version": 3
   },
   "file_extension": ".py",
   "mimetype": "text/x-python",
   "name": "python",
   "nbconvert_exporter": "python",
   "pygments_lexer": "ipython3",
   "version": "3.13.5"
  }
 },
 "nbformat": 4,
 "nbformat_minor": 5
}
